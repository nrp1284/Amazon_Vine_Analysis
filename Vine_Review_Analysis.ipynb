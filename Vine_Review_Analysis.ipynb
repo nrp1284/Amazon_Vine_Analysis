{
  "cells": [
    {
      "cell_type": "code",
      "execution_count": 1,
      "metadata": {
        "colab": {
          "base_uri": "https://localhost:8080/"
        },
        "id": "hGBqL_Tgzwvr",
        "outputId": "3f167a63-b9a2-4401-9c57-6a62f2218b9b"
      },
      "outputs": [
        {
          "name": "stdout",
          "output_type": "stream",
          "text": [
            "\r0% [Working]\r            \rGet:1 https://cloud.r-project.org/bin/linux/ubuntu bionic-cran40/ InRelease [3,626 B]\n",
            "\r0% [Connecting to archive.ubuntu.com] [Connecting to security.ubuntu.com] [1 In\r0% [Connecting to archive.ubuntu.com] [Connecting to security.ubuntu.com] [Conn\r                                                                               \rIgn:2 https://developer.download.nvidia.com/compute/cuda/repos/ubuntu1804/x86_64  InRelease\n",
            "\r0% [Connecting to archive.ubuntu.com] [Connecting to security.ubuntu.com] [Conn\r0% [1 InRelease gpgv 3,626 B] [Connecting to archive.ubuntu.com] [Connecting to\r                                                                               \rIgn:3 https://developer.download.nvidia.com/compute/machine-learning/repos/ubuntu1804/x86_64  InRelease\n",
            "\r0% [1 InRelease gpgv 3,626 B] [Connecting to archive.ubuntu.com] [Connecting to\r                                                                               \rGet:4 https://developer.download.nvidia.com/compute/cuda/repos/ubuntu1804/x86_64  Release [696 B]\n",
            "\r0% [1 InRelease gpgv 3,626 B] [Connecting to archive.ubuntu.com] [Connecting to\r0% [1 InRelease gpgv 3,626 B] [Connecting to archive.ubuntu.com] [Connecting to\r                                                                               \rHit:5 https://developer.download.nvidia.com/compute/machine-learning/repos/ubuntu1804/x86_64  Release\n",
            "Get:6 https://developer.download.nvidia.com/compute/cuda/repos/ubuntu1804/x86_64  Release.gpg [836 B]\n",
            "Get:7 http://security.ubuntu.com/ubuntu bionic-security InRelease [88.7 kB]\n",
            "Get:8 http://ppa.launchpad.net/c2d4u.team/c2d4u4.0+/ubuntu bionic InRelease [15.9 kB]\n",
            "Hit:9 http://archive.ubuntu.com/ubuntu bionic InRelease\n",
            "Get:10 http://archive.ubuntu.com/ubuntu bionic-updates InRelease [88.7 kB]\n",
            "Hit:12 http://ppa.launchpad.net/cran/libgit2/ubuntu bionic InRelease\n",
            "Get:13 https://developer.download.nvidia.com/compute/cuda/repos/ubuntu1804/x86_64  Packages [829 kB]\n",
            "Hit:14 http://ppa.launchpad.net/deadsnakes/ppa/ubuntu bionic InRelease\n",
            "Get:15 http://archive.ubuntu.com/ubuntu bionic-backports InRelease [74.6 kB]\n",
            "Get:16 http://ppa.launchpad.net/graphics-drivers/ppa/ubuntu bionic InRelease [21.3 kB]\n",
            "Get:17 http://security.ubuntu.com/ubuntu bionic-security/restricted amd64 Packages [691 kB]\n",
            "Get:18 http://ppa.launchpad.net/c2d4u.team/c2d4u4.0+/ubuntu bionic/main Sources [1,813 kB]\n",
            "Get:19 http://security.ubuntu.com/ubuntu bionic-security/main amd64 Packages [2,461 kB]\n",
            "Get:20 http://security.ubuntu.com/ubuntu bionic-security/universe amd64 Packages [1,444 kB]\n",
            "Get:21 http://archive.ubuntu.com/ubuntu bionic-updates/main amd64 Packages [2,898 kB]\n",
            "Get:22 http://ppa.launchpad.net/c2d4u.team/c2d4u4.0+/ubuntu bionic/main amd64 Packages [930 kB]\n",
            "Get:23 http://archive.ubuntu.com/ubuntu bionic-updates/universe amd64 Packages [2,225 kB]\n",
            "Get:24 http://archive.ubuntu.com/ubuntu bionic-updates/restricted amd64 Packages [725 kB]\n",
            "Get:25 http://ppa.launchpad.net/graphics-drivers/ppa/ubuntu bionic/main amd64 Packages [44.7 kB]\n",
            "Fetched 14.4 MB in 4s (3,302 kB/s)\n",
            "Reading package lists... Done\n"
          ]
        }
      ],
      "source": [
        "import os\n",
        "# Find the latest version of spark 3.0 from http://www.apache.org/dist/spark/ and enter as the spark version\n",
        "# For example:\n",
        "# spark_version = 'spark-3.0.3'\n",
        "spark_version = 'spark-3.0.3'\n",
        "os.environ['SPARK_VERSION']=spark_version\n",
        "\n",
        "# Install Spark and Java\n",
        "!apt-get update\n",
        "!apt-get install openjdk-11-jdk-headless -qq > /dev/null\n",
        "!wget -q http://www.apache.org/dist/spark/$SPARK_VERSION/$SPARK_VERSION-bin-hadoop2.7.tgz\n",
        "!tar xf $SPARK_VERSION-bin-hadoop2.7.tgz\n",
        "!pip install -q findspark\n",
        "\n",
        "# Set Environment Variables\n",
        "import os\n",
        "os.environ[\"JAVA_HOME\"] = \"/usr/lib/jvm/java-11-openjdk-amd64\"\n",
        "os.environ[\"SPARK_HOME\"] = f\"/content/{spark_version}-bin-hadoop2.7\"\n",
        "\n",
        "# Start a SparkSession\n",
        "import findspark\n",
        "findspark.init()"
      ]
    },
    {
      "cell_type": "code",
      "execution_count": 2,
      "metadata": {
        "colab": {
          "base_uri": "https://localhost:8080/"
        },
        "id": "o47d4HnaChpg",
        "outputId": "fc89affa-0ac5-4aa4-b216-ab34ffa9970c"
      },
      "outputs": [
        {
          "name": "stdout",
          "output_type": "stream",
          "text": [
            "--2021-12-04 18:24:37--  https://jdbc.postgresql.org/download/postgresql-42.2.16.jar\n",
            "Resolving jdbc.postgresql.org (jdbc.postgresql.org)... 72.32.157.228, 2001:4800:3e1:1::228\n",
            "Connecting to jdbc.postgresql.org (jdbc.postgresql.org)|72.32.157.228|:443... connected.\n",
            "HTTP request sent, awaiting response... 200 OK\n",
            "Length: 1002883 (979K) [application/java-archive]\n",
            "Saving to: ‘postgresql-42.2.16.jar’\n",
            "\n",
            "postgresql-42.2.16. 100%[===================>] 979.38K  6.00MB/s    in 0.2s    \n",
            "\n",
            "2021-12-04 18:24:37 (6.00 MB/s) - ‘postgresql-42.2.16.jar’ saved [1002883/1002883]\n",
            "\n"
          ]
        }
      ],
      "source": [
        "# Download the Postgres driver that will allow Spark to interact with Postgres.\n",
        "!wget https://jdbc.postgresql.org/download/postgresql-42.2.16.jar"
      ]
    },
    {
      "cell_type": "code",
      "execution_count": 3,
      "metadata": {
        "id": "HqLKO5WrClDM"
      },
      "outputs": [],
      "source": [
        "from pyspark.sql import SparkSession\n",
        "spark = SparkSession.builder.appName(\"M16-Amazon-Challenge\").config(\"spark.driver.extraClassPath\",\"/content/postgresql-42.2.16.jar\").getOrCreate()"
      ]
    },
    {
      "cell_type": "code",
      "execution_count": 4,
      "metadata": {
        "colab": {
          "base_uri": "https://localhost:8080/"
        },
        "id": "6BmUpBX8CopM",
        "outputId": "1037fbe4-7b67-413d-88b4-043ccb3e5419"
      },
      "outputs": [
        {
          "name": "stdout",
          "output_type": "stream",
          "text": [
            "+-----------+-----------+--------------+----------+--------------+--------------------+----------------+-----------+-------------+-----------+----+-----------------+--------------------+--------------------+-----------+\n",
            "|marketplace|customer_id|     review_id|product_id|product_parent|       product_title|product_category|star_rating|helpful_votes|total_votes|vine|verified_purchase|     review_headline|         review_body|review_date|\n",
            "+-----------+-----------+--------------+----------+--------------+--------------------+----------------+-----------+-------------+-----------+----+-----------------+--------------------+--------------------+-----------+\n",
            "|         US|   16414143|R3W4P9UBGNGH1U|B00YL0EKWE|     852431543|LG G4 Case Hard T...|        Wireless|          2|            1|          3|   N|                Y|Looks good, funct...|2 issues  -  Once...| 2015-08-31|\n",
            "|         US|   50800750|R15V54KBMTQWAY|B00XK95RPQ|     516894650|Selfie Stick Fibl...|        Wireless|          4|            0|          0|   N|                N| A fun little gadget|I’m embarrassed t...| 2015-08-31|\n",
            "|         US|   15184378| RY8I449HNXSVF|B00SXRXUKO|     984297154|Tribe AB40 Water ...|        Wireless|          5|            0|          0|   N|                Y|          Five Stars|  Fits iPhone 6 well| 2015-08-31|\n",
            "|         US|   10203548|R18TLJYCKJFLSR|B009V5X1CE|     279912704|RAVPower® Element...|        Wireless|          5|            0|          0|   N|                Y|       Great charger|Great charger.  I...| 2015-08-31|\n",
            "|         US|     488280|R1NK26SWS53B8Q|B00D93OVF0|     662791300|Fosmon Micro USB ...|        Wireless|          5|            0|          0|   N|                Y|          Five Stars|Great for the pri...| 2015-08-31|\n",
            "+-----------+-----------+--------------+----------+--------------+--------------------+----------------+-----------+-------------+-----------+----+-----------------+--------------------+--------------------+-----------+\n",
            "only showing top 5 rows\n",
            "\n"
          ]
        }
      ],
      "source": [
        "from pyspark import SparkFiles\n",
        "url = \"https://s3.amazonaws.com/amazon-reviews-pds/tsv/amazon_reviews_us_Wireless_v1_00.tsv.gz\"\n",
        "spark.sparkContext.addFile(url)\n",
        "df = spark.read.option(\"encoding\", \"UTF-8\").csv(SparkFiles.get(\"amazon_reviews_us_Wireless_v1_00.tsv.gz\"), sep=\"\\t\", header=True, inferSchema=True)\n",
        "df.show(5)"
      ]
    },
    {
      "cell_type": "code",
      "execution_count": 5,
      "metadata": {
        "id": "NS_9rZYMDIaY"
      },
      "outputs": [],
      "source": [
        "from pyspark.sql.functions import to_date\n",
        "# Read in the Review dataset as a DataFrame"
      ]
    },
    {
      "cell_type": "code",
      "execution_count": 6,
      "metadata": {
        "colab": {
          "base_uri": "https://localhost:8080/"
        },
        "id": "qaqj_3CWDL5c",
        "outputId": "b3387964-993c-4dac-c9ea-fd152bc47960"
      },
      "outputs": [
        {
          "name": "stdout",
          "output_type": "stream",
          "text": [
            "+-----------+--------------+\n",
            "|customer_id|customer_count|\n",
            "+-----------+--------------+\n",
            "|   46909180|             6|\n",
            "|   42560427|             7|\n",
            "|   43789873|             3|\n",
            "|   22037526|             2|\n",
            "|   34220092|             2|\n",
            "|   42801586|             1|\n",
            "|    9565734|             2|\n",
            "|   15829398|             1|\n",
            "|   38247118|             1|\n",
            "|   32478248|             2|\n",
            "|   48114630|             1|\n",
            "|   23085063|             1|\n",
            "|   32787070|             3|\n",
            "|   43515569|             1|\n",
            "|    4919528|             2|\n",
            "|    5088547|             2|\n",
            "|   41852407|             3|\n",
            "|   49703087|             1|\n",
            "|   12713799|             1|\n",
            "|   36728141|             8|\n",
            "+-----------+--------------+\n",
            "only showing top 20 rows\n",
            "\n"
          ]
        }
      ],
      "source": [
        "# Create the customers_table DataFrame\n",
        "# customers_df = df.groupby(\"\").agg({\"\"}).withColumnRenamed(\"\", \"customer_count\")\n",
        "from pyspark.sql.functions import count\n",
        "customers_df = df.groupby(\"customer_id\")\\\n",
        "                .agg({\"*\": \"count\"})\\\n",
        "                .withColumnRenamed(\"count(1)\", \"customer_count\")\n",
        "customers_df.show(20)"
      ]
    },
    {
      "cell_type": "code",
      "execution_count": 7,
      "metadata": {
        "colab": {
          "base_uri": "https://localhost:8080/"
        },
        "id": "peiCJ3QND0t9",
        "outputId": "e5bd8d69-bc4e-40af-c4d8-4fa6cb92d9e0"
      },
      "outputs": [
        {
          "name": "stdout",
          "output_type": "stream",
          "text": [
            "+----------+--------------------+\n",
            "|product_id|       product_title|\n",
            "+----------+--------------------+\n",
            "|B010LVPJH6|LG G Watch Urbane...|\n",
            "|B00K5ZNXZ4|Minisuit Sporty A...|\n",
            "|B00S9RBQOK|iPhone 6 Plus Cas...|\n",
            "|B0116N7GYC|Selfie Stick, Por...|\n",
            "|B009UNH0CY|Plantronics Voyag...|\n",
            "|B00L8GFYAG|Eallc New Quality...|\n",
            "|B00R3LMTI0|Kaleidio [Wallop ...|\n",
            "|B011R0VG36|Galaxy Note 4 Cas...|\n",
            "|B00BXX0QVQ|iKross Black Dual...|\n",
            "|B00F4AYI2M|Incipio DualPro C...|\n",
            "|B00GPI3OHC|Retevis H-777 2 W...|\n",
            "|B00Y9ZUVU6|Tiwkich 2 in 1 Du...|\n",
            "|B00W65SYHS|LG G4 case, Caseo...|\n",
            "|B00V5OU6CW|S5 Leather case,P...|\n",
            "|B00LP3FSH6|Escort Coiled Sma...|\n",
            "|B00MIO2KRC|Black Box G1W-C C...|\n",
            "|B00V5FZM0M|   KoKo Cases 5/5S !|\n",
            "|B00T1KO2TA|iPhone 6 & 6S Cas...|\n",
            "|B00YU9XOTQ|Galaxy S5 Screen ...|\n",
            "|B00PI7IGHE|Soyan Latest DZ09...|\n",
            "+----------+--------------------+\n",
            "only showing top 20 rows\n",
            "\n"
          ]
        }
      ],
      "source": [
        "# Create the products_table DataFrame and drop duplicates. \n",
        "products_df = df.select(['product_id', 'product_title']).drop_duplicates()\n",
        "products_df.show(20)"
      ]
    },
    {
      "cell_type": "code",
      "execution_count": null,
      "metadata": {
        "colab": {
          "base_uri": "https://localhost:8080/"
        },
        "id": "diQktuN0EJlX",
        "outputId": "73022954-a5be-4f3e-a29a-d0a6e93591ee"
      },
      "outputs": [
        {
          "name": "stdout",
          "output_type": "stream",
          "text": [
            "+-----------+--------------+\n",
            "|customer_id|customer_count|\n",
            "+-----------+--------------+\n",
            "|   46909180|             6|\n",
            "|   42560427|             7|\n",
            "|   43789873|             3|\n",
            "|   22037526|             2|\n",
            "|   34220092|             2|\n",
            "+-----------+--------------+\n",
            "only showing top 5 rows\n",
            "\n"
          ]
        }
      ],
      "source": [
        "# Create the customers_table DataFrame\n",
        "# customers_df = df.groupby(\"\").agg({\"\"}).withColumnRenamed(\"\", \"customer_count\")\n",
        "from pyspark.sql.functions import count\n",
        "customers_df = df.groupby(\"customer_id\")\\\n",
        "                .agg({\"*\": \"count\"})\\\n",
        "                .withColumnRenamed(\"count(1)\", \"customer_count\")\n",
        "customers_df.show(5)"
      ]
    },
    {
      "cell_type": "code",
      "execution_count": null,
      "metadata": {
        "colab": {
          "base_uri": "https://localhost:8080/"
        },
        "id": "RBPhwi_0GXiy",
        "outputId": "7c324468-335b-4c8b-823d-2e80a63fc16e"
      },
      "outputs": [
        {
          "name": "stdout",
          "output_type": "stream",
          "text": [
            "+--------------+-----------+----------+--------------+\n",
            "|     review_id|customer_id|product_id|product_parent|\n",
            "+--------------+-----------+----------+--------------+\n",
            "|R1006VH7CWQ7L2|   18974232|B004TDS29A|     572176733|\n",
            "|R10084NQPMAE8T|    2157505|B00JVOC9X2|     971969686|\n",
            "|R1008M23N90ABA|   11128745|B00IMMO8LA|     730409480|\n",
            "|R100BBEWKEA65E|   19917115|B00730HR24|     230623722|\n",
            "|R100FCX761Y5M5|   13149242|B00NHL4QKO|     314056284|\n",
            "|R100U0AKSH9NIR|   37733169|B00P682U7M|     178250058|\n",
            "|R100UBK2FXVISD|   51988885|B0075IQKYA|     138685242|\n",
            "|R100UUZN26I8O4|   44552892|B003SHQXRG|     774327427|\n",
            "|R100UVH1DG0Y49|   41948600|B00D4YJXW0|      11746350|\n",
            "|R1014Z60YEPUM7|   28068239|B004RBL51Q|     165875437|\n",
            "|R10151TU03KLKA|   41596510|B005NF5NTK|     908777325|\n",
            "|R1016VTAKHBOPD|   33132401|B004AYIPZ4|      86413153|\n",
            "|R1017LKPAVQTRS|   25214622|B009O58D8S|     993902459|\n",
            "|R101HPI5NFNS81|   16772286|B0036FS1H0|     844766791|\n",
            "|R101K82V2AA9RZ|   18900285|B003XDU8OO|     486328069|\n",
            "|R101PU8SOKQ3WI|   19294811|B006TQI0ME|     635112842|\n",
            "|R101T7NSEWWJB3|   17001889|B00C6CODNA|     593010163|\n",
            "|R101UCPFWGCCT7|   23977579|B003TRCTB4|     482733081|\n",
            "|R1020NOIB1IJOM|   45461382|B001B2PPYC|      40788743|\n",
            "|R1021RTC5U88I6|   31223232|B00N31Q8CM|     464584377|\n",
            "+--------------+-----------+----------+--------------+\n",
            "only showing top 20 rows\n",
            "\n"
          ]
        }
      ],
      "source": [
        "# Create the products_table DataFrame and drop duplicates. \n",
        "review_id_df = df.select(['review_id','customer_id', 'product_id', 'product_parent']).drop_duplicates()\n",
        "review_id_df.show(20)"
      ]
    },
    {
      "cell_type": "code",
      "execution_count": null,
      "metadata": {
        "colab": {
          "base_uri": "https://localhost:8080/"
        },
        "id": "4FQeiRbkENKQ",
        "outputId": "68dd4c70-5d6b-4369-835e-9b0be31934ca"
      },
      "outputs": [
        {
          "name": "stdout",
          "output_type": "stream",
          "text": [
            "+--------------+-----------+-------------+-----------+----+-----------------+\n",
            "|     review_id|star_rating|helpful_votes|total_votes|vine|verified_purchase|\n",
            "+--------------+-----------+-------------+-----------+----+-----------------+\n",
            "|R3W4P9UBGNGH1U|          2|            1|          3|   N|                Y|\n",
            "|R15V54KBMTQWAY|          4|            0|          0|   N|                N|\n",
            "| RY8I449HNXSVF|          5|            0|          0|   N|                Y|\n",
            "|R18TLJYCKJFLSR|          5|            0|          0|   N|                Y|\n",
            "|R1NK26SWS53B8Q|          5|            0|          0|   N|                Y|\n",
            "|R11LOHEDYJALTN|          5|            0|          0|   N|                Y|\n",
            "|R3ALQVQB2P9LA7|          4|            0|          0|   N|                Y|\n",
            "|R3MWLXLNO21PDQ|          5|            0|          0|   N|                Y|\n",
            "|R2L15IS24CX0LI|          5|            0|          0|   N|                Y|\n",
            "|R1DJ8976WPWVZU|          3|            0|          0|   N|                Y|\n",
            "|R3MRWNNR8CBTB7|          5|            0|          0|   N|                Y|\n",
            "|R1DS6DKTUXAQK3|          5|            0|          0|   N|                Y|\n",
            "| RWJM5E0TWUJD2|          5|            0|          0|   N|                Y|\n",
            "|R1XTJKDYNCRGAC|          1|            0|          0|   N|                Y|\n",
            "|R2UZL3DPWEU1XW|          5|            0|          0|   N|                Y|\n",
            "|R2EZXET9KBFFU3|          1|            0|          0|   N|                Y|\n",
            "|R26VY1L1FD3LPU|          5|            0|          0|   N|                Y|\n",
            "|R2SSA4NSFCV18T|          5|            0|          0|   N|                N|\n",
            "|R1G6333JHJNEUQ|          5|            0|          0|   N|                Y|\n",
            "|R2DRG0UZXJQ0PE|          5|            0|          0|   N|                Y|\n",
            "+--------------+-----------+-------------+-----------+----+-----------------+\n",
            "only showing top 20 rows\n",
            "\n"
          ]
        }
      ],
      "source": [
        "# Create the vine_table. DataFrame\n",
        "vine_df = df.select(['review_id', 'star_rating', 'helpful_votes', 'total_votes', 'vine', 'verified_purchase'])\n",
        "vine_df.show(20)"
      ]
    },
    {
      "cell_type": "code",
      "execution_count": 18,
      "metadata": {
        "id": "rimv1w_xnhrq"
      },
      "outputs": [],
      "source": [
        "# Bias Staatistics"
      ]
    },
    {
      "cell_type": "code",
      "execution_count": 20,
      "metadata": {
        "colab": {
          "base_uri": "https://localhost:8080/"
        },
        "id": "fX8GTdnQnu18",
        "outputId": "99b90501-de30-4a5a-d446-310586cd4bd8"
      },
      "outputs": [
        {
          "name": "stdout",
          "output_type": "stream",
          "text": [
            "+--------------+-----------+-------------+-----------+----+-----------------+\n",
            "|     review_id|star_rating|helpful_votes|total_votes|vine|verified_purchase|\n",
            "+--------------+-----------+-------------+-----------+----+-----------------+\n",
            "|R2DHMT741HV645|          5|           30|         35|   N|                Y|\n",
            "|R1D17BEB2785AD|          5|           16|         23|   N|                Y|\n",
            "|R1QPIOS7YKHDPN|          5|           24|         26|   N|                Y|\n",
            "|R1MXAIYHLXIFZW|          1|           27|         29|   N|                Y|\n",
            "| R8TE546KUXF4M|          5|           64|         67|   N|                Y|\n",
            "| R6F4QVUTY4HU7|          5|           23|         24|   N|                Y|\n",
            "|R36D1KS3CQ47PN|          4|          177|        199|   N|                N|\n",
            "| RR0XRV40MGB57|          5|           19|         24|   N|                Y|\n",
            "|R1E1QK0XG8MOXH|          5|           25|         26|   N|                Y|\n",
            "|R3SMIOLIMDKSWI|          1|           46|         48|   N|                N|\n",
            "|R124YHLBQ3J117|          1|            4|         70|   N|                N|\n",
            "|R1VG59Q5BSYSFS|          1|            3|         21|   N|                Y|\n",
            "|  R2VMKJIFGSC1|          5|           44|         47|   N|                Y|\n",
            "|R2UIZP00RWN5ID|          5|           47|         49|   N|                Y|\n",
            "| R3YG38QUGULK0|          1|           25|         31|   N|                N|\n",
            "|R2PXK8D5GK6VTV|          3|           16|         22|   N|                Y|\n",
            "|R1OF2KWHVV6MKA|          5|           19|         21|   N|                N|\n",
            "|R1AV1TKCCQZ0T1|          4|           25|         29|   N|                N|\n",
            "|R1PJ7ZXSU9IKXS|          1|           73|         83|   N|                N|\n",
            "|R1ROEER8ZZDA8H|          5|           41|         44|   N|                Y|\n",
            "+--------------+-----------+-------------+-----------+----+-----------------+\n",
            "only showing top 20 rows\n",
            "\n"
          ]
        }
      ],
      "source": [
        "# Filter the data and create a new DataFrame or table to retrieve all the rows where the total_votes count is equal to or greater than 20\n",
        "total_votes_df = vine_df.filter(\"total_votes > 20\")\n",
        "total_votes_df.show(20)"
      ]
    },
    {
      "cell_type": "code",
      "execution_count": 21,
      "metadata": {
        "colab": {
          "base_uri": "https://localhost:8080/"
        },
        "id": "nHmsbXzbn8k0",
        "outputId": "fd5852db-4410-460c-b2ff-2d2a3cf5669b"
      },
      "outputs": [
        {
          "name": "stdout",
          "output_type": "stream",
          "text": [
            "+--------------+-----------+-------------+-----------+----+-----------------+\n",
            "|     review_id|star_rating|helpful_votes|total_votes|vine|verified_purchase|\n",
            "+--------------+-----------+-------------+-----------+----+-----------------+\n",
            "|R2DHMT741HV645|          5|           30|         35|   N|                Y|\n",
            "|R1D17BEB2785AD|          5|           16|         23|   N|                Y|\n",
            "|R1QPIOS7YKHDPN|          5|           24|         26|   N|                Y|\n",
            "|R1MXAIYHLXIFZW|          1|           27|         29|   N|                Y|\n",
            "| R8TE546KUXF4M|          5|           64|         67|   N|                Y|\n",
            "| R6F4QVUTY4HU7|          5|           23|         24|   N|                Y|\n",
            "|R36D1KS3CQ47PN|          4|          177|        199|   N|                N|\n",
            "| RR0XRV40MGB57|          5|           19|         24|   N|                Y|\n",
            "|R1E1QK0XG8MOXH|          5|           25|         26|   N|                Y|\n",
            "|R3SMIOLIMDKSWI|          1|           46|         48|   N|                N|\n",
            "|R2UIZP00RWN5ID|          5|           47|         49|   N|                Y|\n",
            "|  R2VMKJIFGSC1|          5|           44|         47|   N|                Y|\n",
            "|R1OF2KWHVV6MKA|          5|           19|         21|   N|                N|\n",
            "| R3YG38QUGULK0|          1|           25|         31|   N|                N|\n",
            "| R83P2D7PDZWJN|          3|           51|         54|   N|                Y|\n",
            "|R2PXK8D5GK6VTV|          3|           16|         22|   N|                Y|\n",
            "|R1PJ7ZXSU9IKXS|          1|           73|         83|   N|                N|\n",
            "|R1BESAGCYJFLZ9|          5|           44|         51|   N|                Y|\n",
            "| R6OOJDCR6W2K7|          5|           23|         27|   N|                Y|\n",
            "|R1EF4WK44L76C0|          5|           22|         22|   N|                N|\n",
            "+--------------+-----------+-------------+-----------+----+-----------------+\n",
            "only showing top 20 rows\n",
            "\n"
          ]
        }
      ],
      "source": [
        "# new DataFrame or table to retrieve all the rows where the number of helpful_votes divided by total_votes is equal to or greater than 50%.\n",
        "helpful_votes_df = total_votes_gt_20_df.filter(\"(helpful_votes / total_votes) > 0.5\")\n",
        "helpful_votes_df.show(20)"
      ]
    },
    {
      "cell_type": "code",
      "execution_count": 23,
      "metadata": {
        "colab": {
          "base_uri": "https://localhost:8080/"
        },
        "id": "SwWYBgK_opes",
        "outputId": "a2972b70-68fb-4982-dbdb-3c5881f60d10"
      },
      "outputs": [
        {
          "name": "stdout",
          "output_type": "stream",
          "text": [
            "+--------------+-----------+-------------+-----------+----+-----------------+\n",
            "|     review_id|star_rating|helpful_votes|total_votes|vine|verified_purchase|\n",
            "+--------------+-----------+-------------+-----------+----+-----------------+\n",
            "|R1LPLEZ5ST999T|          4|          261|        272|   Y|                N|\n",
            "|R2E5UC1L37RSZG|          5|          215|        224|   Y|                Y|\n",
            "|R1GA5ALM462AZY|          5|           23|         26|   Y|                N|\n",
            "|R2TMTT0VL8RBNW|          1|           17|         22|   Y|                N|\n",
            "| RKL4ZK5EY5FAN|          4|           34|         37|   Y|                N|\n",
            "|R3AD9GXP6HYU0S|          1|           22|         25|   Y|                N|\n",
            "| RQS47OP8V796C|          5|           21|         24|   Y|                N|\n",
            "| RJ99L15QR4XSD|          4|           20|         23|   Y|                N|\n",
            "|R258XYEX1U1YEI|          3|          203|        217|   Y|                N|\n",
            "|R3NL12G8N78O60|          5|           33|         36|   Y|                N|\n",
            "|R16OWYY2H2RFAQ|          5|           94|        114|   Y|                N|\n",
            "|R23TPGO3I0NSB3|          5|           61|         71|   Y|                N|\n",
            "|R30E4RH2OL9YHM|          5|           21|         22|   Y|                N|\n",
            "|R3KQGTGVRDGNDB|          4|          805|        856|   Y|                N|\n",
            "|R28FOXA8N4CPBS|          3|           43|         59|   Y|                N|\n",
            "|R242R1X7RRF93I|          4|           34|         40|   Y|                N|\n",
            "|R11ZZK2IY6E3MI|          5|           29|         32|   Y|                N|\n",
            "|R16VJ274P0LZUO|          3|           20|         22|   Y|                N|\n",
            "|R17IL1PD3N86H6|          2|           19|         22|   Y|                N|\n",
            "|R17B2F39S8K4Q4|          4|           29|         38|   Y|                N|\n",
            "+--------------+-----------+-------------+-----------+----+-----------------+\n",
            "only showing top 20 rows\n",
            "\n"
          ]
        }
      ],
      "source": [
        "# Filter the DataFrame or table created in Step 2, and create a new DataFrame or table that retrieves all the rows where a review was written as part of the Vine program (paid), vine == 'Y'.\n",
        "vine_votes_df = helpful_votes_df.filter(\"vine == 'Y'\")\n",
        "vine_votes_df.show(20)"
      ]
    },
    {
      "cell_type": "code",
      "execution_count": 28,
      "metadata": {
        "colab": {
          "base_uri": "https://localhost:8080/"
        },
        "id": "pCJh-mAnw_Mi",
        "outputId": "2cd997aa-8311-4e2b-9265-eb2cf09a3719"
      },
      "outputs": [
        {
          "name": "stdout",
          "output_type": "stream",
          "text": [
            "+--------------+-----------+-------------+-----------+----+-----------------+\n",
            "|     review_id|star_rating|helpful_votes|total_votes|vine|verified_purchase|\n",
            "+--------------+-----------+-------------+-----------+----+-----------------+\n",
            "|R2DHMT741HV645|          5|           30|         35|   N|                Y|\n",
            "|R1D17BEB2785AD|          5|           16|         23|   N|                Y|\n",
            "|R1QPIOS7YKHDPN|          5|           24|         26|   N|                Y|\n",
            "|R1MXAIYHLXIFZW|          1|           27|         29|   N|                Y|\n",
            "|R2UIZP00RWN5ID|          5|           47|         49|   N|                Y|\n",
            "| R8TE546KUXF4M|          5|           64|         67|   N|                Y|\n",
            "| R6F4QVUTY4HU7|          5|           23|         24|   N|                Y|\n",
            "|R36D1KS3CQ47PN|          4|          177|        199|   N|                N|\n",
            "| RR0XRV40MGB57|          5|           19|         24|   N|                Y|\n",
            "|R1E1QK0XG8MOXH|          5|           25|         26|   N|                Y|\n",
            "| R3YG38QUGULK0|          1|           25|         31|   N|                N|\n",
            "|R3SMIOLIMDKSWI|          1|           46|         48|   N|                N|\n",
            "|  R2VMKJIFGSC1|          5|           44|         47|   N|                Y|\n",
            "|R2PXK8D5GK6VTV|          3|           16|         22|   N|                Y|\n",
            "|R1OF2KWHVV6MKA|          5|           19|         21|   N|                N|\n",
            "|R1AV1TKCCQZ0T1|          4|           25|         29|   N|                N|\n",
            "|R1PJ7ZXSU9IKXS|          1|           73|         83|   N|                N|\n",
            "|R1BESAGCYJFLZ9|          5|           44|         51|   N|                Y|\n",
            "| R6OOJDCR6W2K7|          5|           23|         27|   N|                Y|\n",
            "|R1HWR9BDKL0FCU|          4|           36|         39|   N|                Y|\n",
            "+--------------+-----------+-------------+-----------+----+-----------------+\n",
            "only showing top 20 rows\n",
            "\n"
          ]
        }
      ],
      "source": [
        "# Filter the DataFrame or table created in Step 3, and create a new DataFrame or table that retrieves all the rows where a review was written as part of the Vine program (unpaid), vine == 'N'.\n",
        "not_vine_votes_df = helpful_votes_df.filter(\"vine == 'N'\")\n",
        "not_vine_votes_df.show(20)"
      ]
    },
    {
      "cell_type": "code",
      "execution_count": 32,
      "metadata": {
        "id": "I41JAIDRzCz1"
      },
      "outputs": [],
      "source": [
        "num_vines = vine_votes_df.count()"
      ]
    },
    {
      "cell_type": "code",
      "execution_count": 35,
      "metadata": {
        "id": "jyxeh8FszpRL"
      },
      "outputs": [],
      "source": [
        "num_other = not_vine_votes_df.count()"
      ]
    },
    {
      "cell_type": "code",
      "execution_count": 30,
      "metadata": {
        "id": "tBxNvdfixT7_"
      },
      "outputs": [],
      "source": [
        "# Determine the total number of reviews, the number of 5-star reviews, and the percentage of 5-star reviews for the two types of review (paid vs unpaid).\n",
        "fivestar_reviews = vine_votes_df.filter(\"star_rating == 5\").count()\n"
      ]
    },
    {
      "cell_type": "code",
      "execution_count": 48,
      "metadata": {
        "id": "frA0qEuuxo2w"
      },
      "outputs": [],
      "source": [
        "fivestar_other = not_vine_votes_df.filter(\"star_rating < 5\").count()"
      ]
    },
    {
      "cell_type": "code",
      "execution_count": 49,
      "metadata": {
        "id": "Bisn23UbzMFx"
      },
      "outputs": [],
      "source": [
        "fivestar_percentage = round((fivestar_reviews / num_vines *100),2)"
      ]
    },
    {
      "cell_type": "code",
      "execution_count": 50,
      "metadata": {
        "id": "NdgMEAO9zbG0"
      },
      "outputs": [],
      "source": [
        "other_percentage = round((fivestar_other/ num_other * 100), 2)"
      ]
    },
    {
      "cell_type": "code",
      "execution_count": 51,
      "metadata": {
        "colab": {
          "base_uri": "https://localhost:8080/"
        },
        "id": "b9k6FLUh0Bvd",
        "outputId": "0f590649-b670-4897-a331-d7016f1f9e7f"
      },
      "outputs": [
        {
          "name": "stdout",
          "output_type": "stream",
          "text": [
            "Vines: reviews=60989, 5-star=28826 (47.26 %)\n"
          ]
        }
      ],
      "source": [
        "print(f\"Vines: reviews={num_vines}, 5-star={fivestar_reviews} ({fivestar_percentage} %)\")"
      ]
    },
    {
      "cell_type": "code",
      "execution_count": 52,
      "metadata": {
        "colab": {
          "base_uri": "https://localhost:8080/"
        },
        "id": "A9n9VvTJ0Nld",
        "outputId": "7af17ae6-0e47-4fb7-cacc-c25215fa69e7"
      },
      "outputs": [
        {
          "name": "stdout",
          "output_type": "stream",
          "text": [
            "Other: reviews=60989, 5-star=32163 (52.74 %)\n"
          ]
        }
      ],
      "source": [
        "print(f\"Other: reviews={num_other}, 5-star={fivestar_other} ({other_percentage} %)\")"
      ]
    }
  ],
  "metadata": {
    "colab": {
      "collapsed_sections": [],
      "name": "Vine_Review_Analysis.ipynb",
      "provenance": []
    },
    "kernelspec": {
      "display_name": "Python 3",
      "name": "python3"
    },
    "language_info": {
      "name": "python"
    }
  },
  "nbformat": 4,
  "nbformat_minor": 0
}
